{
 "cells": [
  {
   "cell_type": "code",
   "execution_count": 1,
   "metadata": {},
   "outputs": [],
   "source": [
    "import os\n",
    "import random\n",
    "import cv2\n",
    "from tqdm import tqdm\n",
    "import numpy as np\n",
    "import matplotlib.pyplot as plt"
   ]
  },
  {
   "cell_type": "code",
   "execution_count": 2,
   "metadata": {
    "scrolled": true
   },
   "outputs": [
    {
     "name": "stdout",
     "output_type": "stream",
     "text": [
      "['airplane', 'automobile', 'bird', 'cat', 'deer', 'dog', 'frog', 'horse', 'ship', 'truck']\n"
     ]
    }
   ],
   "source": [
    "TRAIN_DIR = 'C:/Users/User/Downloads/Assignment/CIFAR-10-images-master/CIFAR-10-images-master/train'\n",
    "CATEGORIES = []\n",
    "for c in os.listdir(TRAIN_DIR):\n",
    "    CATEGORIES.append(c)\n",
    "print(CATEGORIES)"
   ]
  },
  {
   "cell_type": "code",
   "execution_count": 3,
   "metadata": {
    "scrolled": false
   },
   "outputs": [
    {
     "name": "stdout",
     "output_type": "stream",
     "text": [
      "9\n"
     ]
    }
   ],
   "source": [
    "class_num = CATEGORIES.index(c)\n",
    "print(class_num)"
   ]
  },
  {
   "cell_type": "code",
   "execution_count": null,
   "metadata": {
    "scrolled": false
   },
   "outputs": [
    {
     "name": "stderr",
     "output_type": "stream",
     "text": [
      "100%|█████████████████████████████████████████████████████████████████████████████| 5000/5000 [00:43<00:00, 113.90it/s]\n",
      "100%|█████████████████████████████████████████████████████████████████████████████| 5000/5000 [00:42<00:00, 118.98it/s]\n",
      "100%|█████████████████████████████████████████████████████████████████████████████| 5000/5000 [00:43<00:00, 115.13it/s]\n",
      "100%|█████████████████████████████████████████████████████████████████████████████| 5000/5000 [00:39<00:00, 125.40it/s]\n",
      "100%|█████████████████████████████████████████████████████████████████████████████| 5000/5000 [00:39<00:00, 126.60it/s]\n",
      "100%|█████████████████████████████████████████████████████████████████████████████| 5000/5000 [00:36<00:00, 136.68it/s]\n",
      "100%|█████████████████████████████████████████████████████████████████████████████| 5000/5000 [00:41<00:00, 121.21it/s]\n",
      "100%|█████████████████████████████████████████████████████████████████████████████| 5000/5000 [00:37<00:00, 131.72it/s]\n",
      " 52%|███████████████████████████████████████▋                                     | 2575/5000 [00:18<00:16, 148.78it/s]"
     ]
    }
   ],
   "source": [
    "TRAIN_DATA = []\n",
    "for c in CATEGORIES:\n",
    "    path = os.path.join(TRAIN_DIR,c)\n",
    "    class_num = CATEGORIES.index(c)\n",
    "    for img in tqdm(os.listdir(path)):\n",
    "        img_arr = cv2.imread(os.path.join(path,img))\n",
    "        TRAIN_DATA.append([img_arr, class_num])\n",
    "print(len(TRAIN_DATA))"
   ]
  },
  {
   "cell_type": "code",
   "execution_count": null,
   "metadata": {
    "scrolled": true
   },
   "outputs": [],
   "source": []
  },
  {
   "cell_type": "code",
   "execution_count": null,
   "metadata": {},
   "outputs": [],
   "source": [
    "random.shuffle(TRAIN_DATA)\n",
    "plt.figure(figsize=(20,10))\n",
    "\n",
    "for i in range(50):\n",
    "    plt.subplot(5,10,i+1)\n",
    "    plt.imshow(TRAIN_DATA[i][0])\n",
    "    plt.xlabel(CATEGORIES[TRAIN_DATA[i][1]])\n",
    "    plt.xticks([])\n",
    "    plt.yticks([])\n",
    "    if i==50:\n",
    "        break\n",
    "plt.show()"
   ]
  },
  {
   "cell_type": "code",
   "execution_count": null,
   "metadata": {},
   "outputs": [],
   "source": [
    "f0 = TRAIN_DATA[0:1000]\n",
    "f1 = TRAIN_DATA[1000:2000]\n",
    "f2 = TRAIN_DATA[2000:3000]\n",
    "f3 = TRAIN_DATA[3000:4000]\n",
    "f4 = TRAIN_DATA[4000:5000]"
   ]
  },
  {
   "cell_type": "code",
   "execution_count": null,
   "metadata": {},
   "outputs": [],
   "source": [
    "K=[1,3,5,7,9]\n",
    "\n",
    "midPointAcc1=[]\n",
    "\n",
    "midPointAcc2=[]\n",
    "\n",
    "\n",
    "for i in range(5):\n",
    "    total_acc1 = []\n",
    "    total_acc2 = []\n",
    "    \n",
    "    if i==0:\n",
    "        train = f1+f2+f3+f4\n",
    "        validation = f0 \n",
    "    elif i==1:\n",
    "        train = f0+f2+f3+f4\n",
    "        validation = f1\n",
    "    elif i==2:\n",
    "        train = f1+f0+f3+f4\n",
    "        validation = f2\n",
    "    elif i==3:\n",
    "        train = f1+f2+f0+f4\n",
    "        validation = f3\n",
    "    elif i==4:\n",
    "        train = f1+f2+f3+f0\n",
    "        validation = f4\n",
    "        \n",
    "\n",
    "    for k in K:\n",
    "        \n",
    "        acc1=0\n",
    "        acc2=0\n",
    "        for v in tqdm(validation):\n",
    "            \n",
    "            scores1 = []\n",
    "            scores2 = []\n",
    "            \n",
    "            for t in train:\n",
    "                l1_dist = np.sum(t[0]-v[0])\n",
    "                scores1.append([l1_dist,t[1]])\n",
    "                \n",
    "                l2_dist = np.sum(np.sqrt(t[0]**2-v[0]**2))\n",
    "                scores2.append([l2_dist,t[1]])\n",
    "\n",
    "\n",
    "            sorted_scores1 = sorted(scores1, key=lambda a: a[0])\n",
    "            sorted_scores2 = sorted(scores2, key=lambda a: a[0])\n",
    "\n",
    "            top_k1 = [sorted_scores1[i][1] for i in range(k)]\n",
    "            top_k2 = [sorted_scores2[i][1] for i in range(k)]\n",
    "            \n",
    "            pred_label1 = max(set(top_k1), key=top_k1.count)\n",
    "            pred_label2 = max(set(top_k2), key=top_k2.count)\n",
    "            \n",
    "\n",
    "            true_label = v[1]\n",
    "            if pred_label1 == true_label:\n",
    "                acc1 += 1\n",
    "            if pred_label2 == true_label:\n",
    "                acc2 += 1\n",
    "\n",
    "\n",
    "\n",
    "        accuracy1 = acc1 / len(validation) * 100\n",
    "        accuracy2 = acc2 / len(validation) * 100\n",
    "        \n",
    "        print(f\"Accuracy = {accuracy1:.2f}% for L1, Accuracy = {accuracy2:.2f}% for L2\")\n",
    "        \n",
    "        total_acc1.append(accuracy1)\n",
    "        total_acc2.append(accuracy2)\n",
    "\n",
    "    midPoint2 = sum(total_acc2)/5\n",
    "    midPoint1 = sum(total_acc1)/5\n",
    "    midPointAcc1.append(midPoint1)\n",
    "    midPointAcc2.append(midPoint2)\n",
    "    \n",
    "    print(\"===========================================================\")\n",
    "\n",
    "fig,(ax1,ax2)=plt.subplots(nrows=1,ncols=2)\n",
    "\n",
    "ax1.plot(K,midPointAcc1,label='Plot L1',color='orange')\n",
    "ax2.plot(K,midPointAcc2,label='Plot L2',color='green')\n",
    "\n",
    "ax1.set_xlabel('K')\n",
    "ax1.set_ylabel('Average Accuracy')\n",
    "ax1.legend(loc='best')\n",
    "\n",
    "ax2.set_xlabel('K')\n",
    "ax2.set_ylabel('Average Accuracy')\n",
    "ax2.legend(loc='best')\n",
    "\n",
    "plt.title('Prediction Graph')\n",
    "\n",
    "plt.tight_layout()\n",
    "\n",
    "plt.show()\n"
   ]
  },
  {
   "cell_type": "code",
   "execution_count": null,
   "metadata": {},
   "outputs": [],
   "source": []
  },
  {
   "cell_type": "code",
   "execution_count": null,
   "metadata": {},
   "outputs": [],
   "source": []
  }
 ],
 "metadata": {
  "kernelspec": {
   "display_name": "Python 3 (ipykernel)",
   "language": "python",
   "name": "python3"
  },
  "language_info": {
   "codemirror_mode": {
    "name": "ipython",
    "version": 3
   },
   "file_extension": ".py",
   "mimetype": "text/x-python",
   "name": "python",
   "nbconvert_exporter": "python",
   "pygments_lexer": "ipython3",
   "version": "3.9.12"
  },
  "vscode": {
   "interpreter": {
    "hash": "7520fcfaa0f7f566d8ba0ff551120a430803d2e6ca98d1b1df10dddc810a3506"
   }
  }
 },
 "nbformat": 4,
 "nbformat_minor": 2
}
